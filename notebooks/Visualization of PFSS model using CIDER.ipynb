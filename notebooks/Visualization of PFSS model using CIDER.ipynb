{
 "cells": [
  {
   "cell_type": "markdown",
   "id": "9d371874-2975-49d4-978f-94dc60875d3f",
   "metadata": {},
   "source": [
    "## *Visualization of a PFSS magnetic field extrapolation*\n",
    "***"
   ]
  },
  {
   "cell_type": "markdown",
   "id": "7aa29065-f719-43ea-b824-c15425ddec16",
   "metadata": {},
   "source": [
    "In this example, a PFSS magnetic field model is computed, and the result is then visualized using SHELVIS."
   ]
  },
  {
   "cell_type": "code",
   "execution_count": 1,
   "id": "58e49845-dd2d-4101-b919-706c517c907e",
   "metadata": {},
   "outputs": [],
   "source": [
    "import numpy as np"
   ]
  },
  {
   "cell_type": "code",
   "execution_count": 2,
   "id": "40123937-fe80-409d-ab46-26c6ed5bd63d",
   "metadata": {},
   "outputs": [],
   "source": [
    "import sunpy"
   ]
  },
  {
   "cell_type": "code",
   "execution_count": 3,
   "id": "c3a28af5-4f40-421f-8e45-44c4af7862ad",
   "metadata": {},
   "outputs": [],
   "source": [
    "import astropy.coordinates\n",
    "import astropy.units as u"
   ]
  },
  {
   "cell_type": "code",
   "execution_count": 4,
   "id": "49e450ec-8704-4302-a987-a556cd948b8e",
   "metadata": {},
   "outputs": [],
   "source": [
    "import shelvis"
   ]
  },
  {
   "cell_type": "code",
   "execution_count": null,
   "id": "18ed6243-715a-498c-9143-8400ae09c7ca",
   "metadata": {},
   "outputs": [],
   "source": []
  },
  {
   "cell_type": "markdown",
   "id": "da2883f9-fab3-41c2-8042-e6cc8d42ee60",
   "metadata": {},
   "source": [
    "### Load magnetogram & process"
   ]
  },
  {
   "cell_type": "code",
   "execution_count": 5,
   "id": "4484aa2b-2eb3-4cb5-a849-62cd91c0419d",
   "metadata": {},
   "outputs": [],
   "source": [
    "import cider.magnetogram\n",
    "import cider.magnetogram.hmi"
   ]
  },
  {
   "cell_type": "code",
   "execution_count": 6,
   "id": "e57b3159-63a0-494c-aaec-6a2d0276081e",
   "metadata": {},
   "outputs": [],
   "source": [
    "magnetogram_file = \"../data/hmi.mrdailysynframe_polfil_720s.20220328_120000_TAI.Mr_polfil.fits\""
   ]
  },
  {
   "cell_type": "code",
   "execution_count": 7,
   "id": "fc7d70b9-ec68-4301-83bd-e258b98bcbba",
   "metadata": {},
   "outputs": [
    {
     "name": "stderr",
     "output_type": "stream",
     "text": [
      "WARNING: SunpyDeprecationWarning: The toplevel space of the io subpackage was never intended for public use and will be removed in the future. [cider.magnetogram.hmi]\n"
     ]
    }
   ],
   "source": [
    "raw_magnetogram = cider.magnetogram.hmi.read_hmi_daily_synframe(magnetogram_file)"
   ]
  },
  {
   "cell_type": "code",
   "execution_count": 8,
   "id": "622d0b23-2779-4b51-89de-dfd956c93b6f",
   "metadata": {},
   "outputs": [],
   "source": [
    "import cider.utils.map"
   ]
  },
  {
   "cell_type": "code",
   "execution_count": 9,
   "id": "68e3a86d-cacd-4e2c-a435-e818708379ea",
   "metadata": {},
   "outputs": [],
   "source": [
    "# Create an empty map with the requested resolution\n",
    "uniform_map \\\n",
    "    = cider.utils.map.create_full_sun_plate_carree_map(raw_magnetogram,\n",
    "                                                       deg_per_pixel=1.0,\n",
    "                                                       frame=raw_magnetogram.coordinate_frame.name)"
   ]
  },
  {
   "cell_type": "code",
   "execution_count": 10,
   "id": "3b7151c8-cb6e-4414-b91f-c12292538eba",
   "metadata": {},
   "outputs": [],
   "source": [
    "remapped_magnetogram = cider.magnetogram.regrid_to_grid_of_map(raw_magnetogram, uniform_map)"
   ]
  },
  {
   "cell_type": "code",
   "execution_count": 11,
   "id": "ac01a9fc-187c-4f3a-a511-0d1cf53ef1e5",
   "metadata": {},
   "outputs": [],
   "source": [
    "balanced_magnetogram = cider.magnetogram.Balance.multiplicative(remapped_magnetogram)"
   ]
  },
  {
   "cell_type": "code",
   "execution_count": null,
   "id": "705de83f-fbfa-462a-a864-1ed2dec82e4f",
   "metadata": {},
   "outputs": [],
   "source": []
  },
  {
   "cell_type": "markdown",
   "id": "5bef2b1d-5ac9-4ca9-8bb7-49dc7a46083f",
   "metadata": {},
   "source": [
    "### Compute the PFSS model"
   ]
  },
  {
   "cell_type": "code",
   "execution_count": 12,
   "id": "756540a0-a526-4a59-9ba4-a7b2d9b583e3",
   "metadata": {},
   "outputs": [],
   "source": [
    "import cider.models.pfss"
   ]
  },
  {
   "cell_type": "code",
   "execution_count": 13,
   "id": "3c778243-ef0b-455f-b676-12adba291c40",
   "metadata": {},
   "outputs": [],
   "source": [
    "r = np.linspace(1.0, 2.5, 128)*astropy.constants.R_sun"
   ]
  },
  {
   "cell_type": "code",
   "execution_count": 14,
   "id": "d6b21d4a-2530-4afe-ae1e-6830f5403046",
   "metadata": {},
   "outputs": [],
   "source": [
    "# Instantiate the model\n",
    "pfss = cider.models.pfss.PotentialFieldSourceSurfaceModel(balanced_magnetogram, r)"
   ]
  },
  {
   "cell_type": "code",
   "execution_count": 15,
   "id": "72bb867c-c90d-4bfc-8742-a821f5f67806",
   "metadata": {},
   "outputs": [],
   "source": [
    "# Compute the solution\n",
    "pfss.compute()"
   ]
  },
  {
   "cell_type": "code",
   "execution_count": 16,
   "id": "cd1c8de5-a370-4ba3-873b-9b7db5af0b37",
   "metadata": {},
   "outputs": [],
   "source": [
    "# Compute the magnetic field\n",
    "magnetic_field = pfss.magnetic_field()"
   ]
  },
  {
   "cell_type": "code",
   "execution_count": 17,
   "id": "d1e4c6ee-2947-4718-ba3f-c65b05862c6d",
   "metadata": {},
   "outputs": [],
   "source": [
    "import cider.utils.interpolation"
   ]
  },
  {
   "cell_type": "code",
   "execution_count": 18,
   "id": "06ea44c3-6a1b-417d-a457-c0ee33aeb1f2",
   "metadata": {},
   "outputs": [],
   "source": [
    "nodal_magnetic_field \\\n",
    "        = cider.utils.interpolation.average_face_staggered_to_nodal(magnetic_field)"
   ]
  },
  {
   "cell_type": "code",
   "execution_count": null,
   "id": "e4e76dd3-7da5-4651-a981-e031df5315a9",
   "metadata": {},
   "outputs": [],
   "source": []
  },
  {
   "cell_type": "markdown",
   "id": "d3f848fe-704b-4767-b636-2262533d63fa",
   "metadata": {},
   "source": [
    "### Create a Dataset object for SHELVIS"
   ]
  },
  {
   "cell_type": "markdown",
   "id": "7d1f90d2-561a-4c48-92b0-032232943e9d",
   "metadata": {},
   "source": [
    "First, the coordinate frame that the result is plotted in needs to be defined. Here, we use the Stonyhurst frame as an example."
   ]
  },
  {
   "cell_type": "code",
   "execution_count": 19,
   "id": "996cf5b7-2d31-442c-93f4-b08a87ac5f5e",
   "metadata": {},
   "outputs": [],
   "source": [
    "frame_of_plot = sunpy.coordinates.HeliographicStonyhurst(lon=0*u.deg, \n",
    "                                                         lat=0*u.deg, \n",
    "                                                         obstime=pfss.magnetogram.coordinate_frame.obstime)"
   ]
  },
  {
   "cell_type": "code",
   "execution_count": null,
   "id": "cd30d799-aa07-4449-a30b-1b04c580126a",
   "metadata": {},
   "outputs": [],
   "source": []
  },
  {
   "cell_type": "markdown",
   "id": "1a813550-4ba4-4aa3-adb0-0ed366080e65",
   "metadata": {},
   "source": [
    "Create the SHELVIS dataset. In doing so, the result is transformed to the requested frame"
   ]
  },
  {
   "cell_type": "code",
   "execution_count": 20,
   "id": "2dfb6a4b-df57-40d5-9c24-cd5ee65d2c36",
   "metadata": {},
   "outputs": [],
   "source": [
    "import shelvis.io.cider"
   ]
  },
  {
   "cell_type": "code",
   "execution_count": 21,
   "id": "39ec6bf2-25a7-4aa0-8270-280d82070de7",
   "metadata": {},
   "outputs": [],
   "source": [
    "dataset = shelvis.io.cider.Dataset(coordinate_frame=frame_of_plot)"
   ]
  },
  {
   "cell_type": "code",
   "execution_count": 22,
   "id": "5f6be6de-8ac9-452a-93c5-0083635fdc02",
   "metadata": {},
   "outputs": [],
   "source": [
    "dataset.from_field(nodal_magnetic_field, frame=pfss.magnetogram.coordinate_frame)"
   ]
  },
  {
   "cell_type": "code",
   "execution_count": 24,
   "id": "8d079316-508c-4d76-b34f-1b77daac2123",
   "metadata": {},
   "outputs": [],
   "source": [
    "# Add the vector field\n",
    "dataset.add_vector(nodal_magnetic_field, \n",
    "                   name=\"magnetic_field\", \n",
    "                   unit=pfss.magnetogram.unit, \n",
    "                   frame=pfss.magnetogram.coordinate_frame)"
   ]
  },
  {
   "cell_type": "code",
   "execution_count": 25,
   "id": "af318dfc-4fbe-43a4-a431-17faaac0ab38",
   "metadata": {},
   "outputs": [],
   "source": [
    "# Add separately the spherical vector components of the magnetic field\n",
    "dataset.add_scalar(nodal_magnetic_field.data[0], name=\"br\", unit=pfss.magnetogram.unit)\n",
    "dataset.add_scalar(nodal_magnetic_field.data[1], name=\"bt\", unit=pfss.magnetogram.unit)\n",
    "dataset.add_scalar(nodal_magnetic_field.data[2], name=\"bp\", unit=pfss.magnetogram.unit)"
   ]
  },
  {
   "cell_type": "code",
   "execution_count": null,
   "id": "ce4aa33b-bac7-46e2-b498-daa885592e66",
   "metadata": {},
   "outputs": [],
   "source": []
  },
  {
   "cell_type": "markdown",
   "id": "48c6efaa-1f78-4aec-8223-186b4fee0caa",
   "metadata": {},
   "source": [
    "### Plot the result"
   ]
  },
  {
   "cell_type": "markdown",
   "id": "70d4cb29-9c95-4c3f-bc14-4ba090afbfa7",
   "metadata": {},
   "source": [
    "To plot the resulting data, first the visualization widget is created. In addition to the coordinate frame, the unit of length used in defining coordinates in the plot needs to be set"
   ]
  },
  {
   "cell_type": "code",
   "execution_count": 26,
   "id": "6f5d0d1a-31c4-4304-bee9-ad8a06289a83",
   "metadata": {},
   "outputs": [],
   "source": [
    "vis = shelvis.Visualization(coordinate_frame=frame_of_plot, unit_of_length=astropy.constants.R_sun)"
   ]
  },
  {
   "cell_type": "code",
   "execution_count": null,
   "id": "f1d30e04-25a8-4aa1-8d2a-760d5eabca68",
   "metadata": {},
   "outputs": [],
   "source": []
  },
  {
   "cell_type": "markdown",
   "id": "459d82ba-e4e8-493f-86d1-1185ea2845cb",
   "metadata": {},
   "source": [
    "Next, a spherical slice plot is added to the visualization"
   ]
  },
  {
   "cell_type": "code",
   "execution_count": 27,
   "id": "bd45edb9-5239-40ad-8005-a012b3b70f7b",
   "metadata": {},
   "outputs": [],
   "source": [
    "from shelvis.widgets.implicit import Sphere"
   ]
  },
  {
   "cell_type": "code",
   "execution_count": 28,
   "id": "ffa562b5-3fc5-4d7b-9cc0-009c2aac1cd9",
   "metadata": {},
   "outputs": [],
   "source": [
    "vis.add(shelvis.SlicePlot(\n",
    "            # The dataset to plot\n",
    "            dataset,\n",
    "            # The slice surface, here a sphere\n",
    "            Sphere(radius=1.2,\n",
    "                    min=1.001,\n",
    "                    max=2.491,\n",
    "                    step=0.01,\n",
    "                    unit=astropy.constants.R_sun),\n",
    "            # The variable to plot\n",
    "            variable=\"br\",\n",
    "            # The unit to use in the plot\n",
    "            unit=\"gauss\",\n",
    "            # A name to identify the plot\n",
    "            name=\"Sphere slice (br)\"))"
   ]
  },
  {
   "cell_type": "code",
   "execution_count": null,
   "id": "0b6a7392-c916-4d31-84f5-020ecddf1b51",
   "metadata": {},
   "outputs": [],
   "source": []
  },
  {
   "cell_type": "code",
   "execution_count": 29,
   "id": "ae23d08e-ebda-4e7b-a838-19050dd334e6",
   "metadata": {},
   "outputs": [
    {
     "data": {
      "application/vnd.jupyter.widget-view+json": {
       "model_id": "d5e5d2504a4f4767b871f14620a9651f",
       "version_major": 2,
       "version_minor": 0
      },
      "text/plain": [
       "Visualization(children=(FigureWidget({\n",
       "    'data': [{'colorbar': {'len': 0.5, 'orientation': 'v', 'title': {'t…"
      ]
     },
     "execution_count": 29,
     "metadata": {},
     "output_type": "execute_result"
    }
   ],
   "source": [
    "vis"
   ]
  },
  {
   "cell_type": "code",
   "execution_count": null,
   "id": "8e937f6e-209d-4431-9671-9c3677f9ad13",
   "metadata": {},
   "outputs": [],
   "source": []
  }
 ],
 "metadata": {
  "kernelspec": {
   "display_name": "Python 3 (ipykernel)",
   "language": "python",
   "name": "python3"
  },
  "language_info": {
   "codemirror_mode": {
    "name": "ipython",
    "version": 3
   },
   "file_extension": ".py",
   "mimetype": "text/x-python",
   "name": "python",
   "nbconvert_exporter": "python",
   "pygments_lexer": "ipython3",
   "version": "3.11.11"
  }
 },
 "nbformat": 4,
 "nbformat_minor": 5
}
